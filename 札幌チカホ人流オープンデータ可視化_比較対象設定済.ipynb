{
  "nbformat": 4,
  "nbformat_minor": 0,
  "metadata": {
    "colab": {
      "name": "札幌チカホ人流オープンデータ可視化_比較対象設定済.ipynb",
      "provenance": [],
      "collapsed_sections": [],
      "include_colab_link": true
    },
    "kernelspec": {
      "name": "python3",
      "display_name": "Python 3"
    }
  },
  "cells": [
    {
      "cell_type": "markdown",
      "metadata": {
        "id": "view-in-github",
        "colab_type": "text"
      },
      "source": [
        "<a href=\"https://colab.research.google.com/github/mongamae-nioh/people-flow-data-visualization/blob/master/%E6%9C%AD%E5%B9%8C%E3%83%81%E3%82%AB%E3%83%9B%E4%BA%BA%E6%B5%81%E3%82%AA%E3%83%BC%E3%83%97%E3%83%B3%E3%83%87%E3%83%BC%E3%82%BF%E5%8F%AF%E8%A6%96%E5%8C%96_%E6%AF%94%E8%BC%83%E5%AF%BE%E8%B1%A1%E8%A8%AD%E5%AE%9A%E6%B8%88.ipynb\" target=\"_parent\"><img src=\"https://colab.research.google.com/assets/colab-badge.svg\" alt=\"Open In Colab\"/></a>"
      ]
    },
    {
      "cell_type": "code",
      "metadata": {
        "id": "HJVWN8qStf5o",
        "colab_type": "code",
        "colab": {}
      },
      "source": [
        "!pip install japanize-matplotlib\n",
        "import pandas as pd\n",
        "import matplotlib.pyplot as plt\n",
        "import japanize_matplotlib"
      ],
      "execution_count": 0,
      "outputs": []
    },
    {
      "cell_type": "code",
      "metadata": {
        "id": "BsoNnRxiunCs",
        "colab_type": "code",
        "colab": {}
      },
      "source": [
        "# オープンデータをデータフレームへ格納する\n",
        "data_url1 = 'https://ckan.pf-sapporo.jp/dataset/224cede7-c57d-47d9-9279-23264058286e/resource/6f25d9c3-bd01-4430-96a0-03ac53b50ef4/download/sm201903.csv'\n",
        "data_url2 = 'https://ckan.pf-sapporo.jp/dataset/224cede7-c57d-47d9-9279-23264058286e/resource/86e3c4c5-2784-41de-9256-1cb04ca4ecd7/download/sm202003.csv'\n",
        "\n",
        "df1 = pd.read_csv(data_url1, header=0,  names=('日時', '計測ポイント', '札幌から大通り', '大通りから札幌', '合計', '補正'))\n",
        "df2 = pd.read_csv(data_url2, header=0,  names=('日時', '計測ポイント', '札幌から大通り', '大通りから札幌', '合計', '補正'))"
      ],
      "execution_count": 0,
      "outputs": []
    },
    {
      "cell_type": "code",
      "metadata": {
        "id": "6d5Qg0oSPdiD",
        "colab_type": "code",
        "colab": {}
      },
      "source": [
        "# 指定日・指定計測ポイントの人流をデータフレームへ格納する関数\n",
        "def create_df1(place, date):\n",
        "  df_a = df1[df1['計測ポイント'] == place]\n",
        "  df_b = df_a[df_a['日時'].str.contains(date)]\n",
        "  return df_b\n",
        "\n",
        "def create_df2(place, date):\n",
        "  df_c = df2[df2['計測ポイント'] == place]\n",
        "  df_d = df_c[df_c['日時'].str.contains(date)]\n",
        "  return df_d"
      ],
      "execution_count": 0,
      "outputs": []
    },
    {
      "cell_type": "code",
      "metadata": {
        "id": "NrVhL93jihog",
        "colab_type": "code",
        "colab": {}
      },
      "source": [
        "# 人流を比較するグラフを表示する関数\n",
        "def display_graph(graphtitle, labelx, labely, targetdata, place, date1, date2):\n",
        "#  x1_value = y1_value = x2_value = y2_value = []\n",
        "  x1_value = []\n",
        "  y1_value = []\n",
        "  x2_value = []\n",
        "  y2_value = []\n",
        "\n",
        "  fig, ax = plt.subplots(figsize=(40,20))\n",
        "  c1,c2 = \"blue\",\"red\" \n",
        "  l1 = \"コロナ前: \" + date1  # 各ラベル\n",
        "  l2 = \"コロナ後: \" + date2  # 各ラベル\n",
        "\n",
        "  data_frame1 = create_df1(place, date1)\n",
        "  data_frame2 = create_df2(place, date2)\n",
        "\n",
        "  i = 0 \n",
        "  for i in range(len(data_frame1)):\n",
        "    x1_value.append(str(data_frame1.iloc[i][\"日時\"])[10:16])\n",
        "    y1_value.append(data_frame1.iloc[i][targetdata])\n",
        "    i += 1\n",
        "\n",
        "  j = 0\n",
        "  for j in range(len(data_frame2)):\n",
        "    x2_value.append(str(data_frame2.iloc[j][\"日時\"])[10:16])\n",
        "    y2_value.append(data_frame2.iloc[j][targetdata])\n",
        "    j += 1\n",
        "\n",
        "  fontsize = 30\n",
        "\n",
        "  ax.set_xlabel('時間', fontsize=fontsize)  # x軸ラベル\n",
        "  ax.set_ylabel('人数', fontsize=fontsize)  # y軸ラベル\n",
        "  ax.set_title(graphtitle, fontsize=fontsize) # グラフタイトル\n",
        "  ax.grid()            # 罫線\n",
        "  ax.plot(x1_value, y1_value, color=c1, label=l1, linewidth = 3.0)\n",
        "  ax.plot(x2_value, y2_value, color=c2, label=l2, linewidth = 3.0)\n",
        "  ax.legend(loc=0, fontsize=fontsize)    # 凡例\n",
        "  fig.tight_layout()  # レイアウトの設定\n",
        "  plt.show()"
      ],
      "execution_count": 0,
      "outputs": []
    },
    {
      "cell_type": "code",
      "metadata": {
        "id": "cF4VQdF0QviP",
        "colab_type": "code",
        "colab": {}
      },
      "source": [
        "display_graph('コロナ前後におけるチカホの人流', '時間', '人流', '合計', 'J4', '2019-03-11', '2020-03-09')"
      ],
      "execution_count": 0,
      "outputs": []
    }
  ]
}